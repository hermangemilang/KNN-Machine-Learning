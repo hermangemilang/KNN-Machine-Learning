{
  "nbformat": 4,
  "nbformat_minor": 0,
  "metadata": {
    "colab": {
      "provenance": []
    },
    "kernelspec": {
      "name": "python3",
      "display_name": "Python 3"
    },
    "language_info": {
      "name": "python"
    }
  },
  "cells": [
    {
      "cell_type": "code",
      "source": [
        "import numpy as np\n",
        "import pandas as pd\n",
        "from heapq import nsmallest"
      ],
      "metadata": {
        "id": "YgVKofroHjPP"
      },
      "execution_count": 2,
      "outputs": []
    },
    {
      "cell_type": "code",
      "source": [
        "#Baca Data\n",
        "def read_Data(namaFile):\n",
        "    data = pd.ExcelFile(namaFile)\n",
        "    datatrain = pd.read_excel(data, 'train')\n",
        "    datatest = pd.read_excel(data, 'test')\n",
        "    train = np.array((datatrain['x1'].tolist(),datatrain['x2'].tolist(),datatrain['x3'].tolist(), datatrain['y'].tolist()))\n",
        "    test = np.array((datatest['x1'].tolist(),datatest['x2'].tolist(),datatest['x3'].tolist(), datatest['id'].tolist()))\n",
        "    return train, test"
      ],
      "metadata": {
        "id": "mlqvKC0n9QZm"
      },
      "execution_count": 3,
      "outputs": []
    },
    {
      "cell_type": "code",
      "source": [
        "#Hitung Jarak dengan Manhattan Distance\n",
        "def distWithManhattan(Train, Test):\n",
        "    distance_of_test = []\n",
        "    for i in range(len(Test[0])):\n",
        "        dump = []\n",
        "        for j in range(len(Train[0])):\n",
        "            dump.append(abs(Train[0][j]-Test[0][i])+abs(Train[1][j]-Test[1][i])+abs(Train[2][j]-Test[2][i]))\n",
        "        distance_of_test.append(dump)\n",
        "    return distance_of_test\n"
      ],
      "metadata": {
        "id": "u2s2Q0i69Tvc"
      },
      "execution_count": 4,
      "outputs": []
    },
    {
      "cell_type": "code",
      "source": [
        "#Memperkirakan Kelas\n",
        "def predict(data, Train, k):\n",
        "    predict = []\n",
        "    for i in range(len(data)):\n",
        "        Data = data[i]\n",
        "        dump = nsmallest(k, Data)\n",
        "        dump1 = []\n",
        "        for j in range(k):\n",
        "            dump1.append(Train[Data.index(dump[j])])\n",
        "        predict.append(max(set(dump1), key = dump1.count))\n",
        "    return predict"
      ],
      "metadata": {
        "id": "XiWxIwXY9Vnc"
      },
      "execution_count": 5,
      "outputs": []
    },
    {
      "cell_type": "code",
      "source": [
        "#Evaluasi dengan membanding 1/2 data latihan dengan 1/2 data latihan lagi\n",
        "def evaluasi(test, k):\n",
        "    TestX = np.array((test[0][0:148], test[1][0:148], test[2][0:148]))\n",
        "    TestY = np.array((test[0][148:296], test[1][148:296], test[2][148:296]))\n",
        "    dist = distWithManhattan(TestX, TestY)\n",
        "    output = predict(dist, test[3], k)\n",
        "    count = 0\n",
        "    for i in range(len(dist)):\n",
        "        if output[i] == test[3][i]:\n",
        "            count += 1\n",
        "    print(\"Nilai Error dengan K =\",k,\": \",1 - (count/len(dist)))"
      ],
      "metadata": {
        "id": "vkUBf6Qp9ZHT"
      },
      "execution_count": 6,
      "outputs": []
    },
    {
      "cell_type": "code",
      "source": [
        "#Tulis Data\n",
        "def write_Data(Test, output):\n",
        "    df = pd.DataFrame({'id': Test[3], 'x1': Test[0], 'x2': Test[1], 'x3': Test[2], 'y': output})\n",
        "    df.to_excel('hasil.xlsx', index= False)"
      ],
      "metadata": {
        "id": "T98YWxC_9cVt"
      },
      "execution_count": 7,
      "outputs": []
    },
    {
      "cell_type": "code",
      "source": [
        "#Running\n",
        "def KNN():\n",
        "    Train, Test = read_Data('traintest.xlsx')\n",
        "    dist = distWithManhattan(Train, Test)\n",
        "    #Custom K di sini\n",
        "    k = 3\n",
        "    output = predict(dist, Train[3], k)\n",
        "    evaluasi(Train, k)\n",
        "    write_Data(Test, output)\n",
        "\n",
        "KNN()"
      ],
      "metadata": {
        "colab": {
          "base_uri": "https://localhost:8080/"
        },
        "id": "Fwg2BQtR9fFJ",
        "outputId": "2603a436-7238-4af1-d362-876f2b4ee633"
      },
      "execution_count": 8,
      "outputs": [
        {
          "output_type": "stream",
          "name": "stdout",
          "text": [
            "Nilai Error dengan K = 3 :  0.31756756756756754\n"
          ]
        }
      ]
    }
  ]
}